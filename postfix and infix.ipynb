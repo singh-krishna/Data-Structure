{
 "cells": [
  {
   "cell_type": "markdown",
   "metadata": {},
   "source": [
    "### Convertion of expression into postfix without bracket"
   ]
  },
  {
   "cell_type": "code",
   "execution_count": 20,
   "metadata": {},
   "outputs": [
    {
     "name": "stdout",
     "output_type": "stream",
     "text": [
      "a+b+c\n",
      "ab+c+\n",
      "+a+bc\n"
     ]
    }
   ],
   "source": [
    "def postfix_Expression(exp):\n",
    "    l=[]\n",
    "    operator='^*/+-'\n",
    "    result=''\n",
    "    for i in exp:\n",
    "        if i.isalpha():\n",
    "            result +=i\n",
    "        else:\n",
    "            if l:\n",
    "                if operator.index(l[-1])>operator.index(i):\n",
    "                    l.append(i)\n",
    "                else:\n",
    "                    x=l.pop()\n",
    "                    result +=x\n",
    "                    l.append(i)\n",
    "            else:\n",
    "                l.append(i)\n",
    "    while l:\n",
    "        x=l.pop()\n",
    "        result+=x\n",
    "    print(result) \n",
    "def prefix_Expression(exp):\n",
    "    exp=exp[::-1]\n",
    "    l=[]\n",
    "    operator='^*/+-'\n",
    "    result=''\n",
    "    for i in exp:\n",
    "        if i.isalpha():\n",
    "            result =i+result\n",
    "        else:\n",
    "            if l:\n",
    "                if operator.index(l[-1])>operator.index(i):\n",
    "                    l.append(i)\n",
    "                else:\n",
    "                    x=l.pop()\n",
    "                    result =x+result\n",
    "                    l.append(i)\n",
    "            else:\n",
    "                l.append(i)\n",
    "    while l:\n",
    "        x=l.pop()\n",
    "        result = x+result\n",
    "    print(result)\n",
    "exp=input()\n",
    "postfix_Expression(exp)\n",
    "prefix_Expression(exp)"
   ]
  },
  {
   "cell_type": "markdown",
   "metadata": {},
   "source": [
    "### Convertion of expression into postfix with bracket"
   ]
  },
  {
   "cell_type": "code",
   "execution_count": 8,
   "metadata": {},
   "outputs": [
    {
     "name": "stdout",
     "output_type": "stream",
     "text": [
      "(a+b)*c-(d-e)*(f+g)\n",
      "ab+c*de-fg+*-\n"
     ]
    }
   ],
   "source": [
    "def postfix(exp):\n",
    "    l=[]\n",
    "    operator = '*/+-'\n",
    "    result=\"\"\n",
    "    for i in exp:\n",
    "        if i.isalpha():\n",
    "            result +=i\n",
    "        elif i=='(':\n",
    "            l.append(i)\n",
    "        elif i in operator:\n",
    "            if len(l)>0 and l[-1]=='(':\n",
    "                l.append(i)\n",
    "            else:\n",
    "                if l:\n",
    "                    if operator.index(l[-1])>operator.index(i):\n",
    "                        l.append(i)\n",
    "                    else:\n",
    "                        x=l.pop()\n",
    "                        result +=x\n",
    "                        l.append(i)\n",
    "                else:\n",
    "                    l.append(i)\n",
    "        elif i==')':\n",
    "            while l:\n",
    "                x=l.pop()\n",
    "                if x!='(':\n",
    "                    result +=x\n",
    "                else:\n",
    "                    break\n",
    "    while l:\n",
    "        x=l.pop()\n",
    "        if x!='(':\n",
    "            result +=x\n",
    "    print(result)\n",
    "postfix(input())\n",
    "            "
   ]
  },
  {
   "cell_type": "code",
   "execution_count": null,
   "metadata": {},
   "outputs": [],
   "source": []
  }
 ],
 "metadata": {
  "kernelspec": {
   "display_name": "Python 3",
   "language": "python",
   "name": "python3"
  },
  "language_info": {
   "codemirror_mode": {
    "name": "ipython",
    "version": 3
   },
   "file_extension": ".py",
   "mimetype": "text/x-python",
   "name": "python",
   "nbconvert_exporter": "python",
   "pygments_lexer": "ipython3",
   "version": "3.7.0"
  }
 },
 "nbformat": 4,
 "nbformat_minor": 2
}
